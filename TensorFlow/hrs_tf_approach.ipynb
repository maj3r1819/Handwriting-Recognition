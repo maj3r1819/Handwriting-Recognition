{
  "nbformat": 4,
  "nbformat_minor": 0,
  "metadata": {
    "kernelspec": {
      "display_name": "Python 3",
      "language": "python",
      "name": "python3"
    },
    "language_info": {
      "codemirror_mode": {
        "name": "ipython",
        "version": 3
      },
      "file_extension": ".py",
      "mimetype": "text/x-python",
      "name": "python",
      "nbconvert_exporter": "python",
      "pygments_lexer": "ipython3",
      "version": "3.8.5"
    },
    "colab": {
      "name": "hrs_tf_approach.ipynb",
      "provenance": [],
      "include_colab_link": true
    }
  },
  "cells": [
    {
      "cell_type": "markdown",
      "metadata": {
        "id": "view-in-github",
        "colab_type": "text"
      },
      "source": [
        "<a href=\"https://colab.research.google.com/github/maj3r1819/Handwriting-Recognition/blob/master/hrs_tf_approach.ipynb\" target=\"_parent\"><img src=\"https://colab.research.google.com/assets/colab-badge.svg\" alt=\"Open In Colab\"/></a>"
      ]
    },
    {
      "cell_type": "code",
      "metadata": {
        "id": "wrRYPGBkK4N8"
      },
      "source": [
        "import keras\n",
        "import numpy as np \n",
        "import pandas as pd \n",
        "from keras.datasets import mnist\n",
        "from keras.models import Sequential\n",
        "from keras.layers import Dense, Dropout, Flatten\n",
        "from keras.layers import Conv2D, MaxPool2D\n",
        "\n"
      ],
      "execution_count": 16,
      "outputs": []
    },
    {
      "cell_type": "code",
      "metadata": {
        "id": "4X9F-xH0K4OL"
      },
      "source": [
        "train_data= pd.read_csv(r\"train.csv\")\n",
        "X_test= pd.read_csv(r\"test.csv\")\n",
        "train_data.shape, X_test.shape\n",
        "\n",
        "y_train= train_data['label'].values\n",
        "X_train = train_data.drop(labels=['label'], axis=1)\n",
        "\n",
        "X_train.shape, X_test.shape\n",
        "\n",
        "X_train = X_train.astype('float32')\n",
        "X_test = X_test.astype('float32')\n",
        "\n"
      ],
      "execution_count": 17,
      "outputs": []
    },
    {
      "cell_type": "code",
      "metadata": {
        "id": "Gpj9Gs4VK4ON"
      },
      "source": [
        "num_classes= 10\n",
        "y_train = keras.utils.to_categorical(y_train, num_classes)\n",
        "\n",
        "X_train /= 255\n",
        "X_test /= 255\n",
        "\n",
        "X_train = X_train.values.reshape(X_train.shape[0], 28, 28, 1)\n",
        "X_test = X_test.values.reshape(X_test.shape[0], 28, 28, 1)\n",
        "input_shape = (28, 28, 1)\n",
        "\n"
      ],
      "execution_count": 18,
      "outputs": []
    },
    {
      "cell_type": "code",
      "metadata": {
        "id": "fnO2DbB_K4OO"
      },
      "source": [
        "\n",
        "model = Sequential()\n",
        "model.add(Conv2D(filters=32, kernel_size=3, activation=\"relu\", padding='same',input_shape=input_shape))\n",
        "model.add(MaxPool2D())\n",
        "model.add(Conv2D(filters=64, kernel_size=3, activation=\"relu\", padding='same'))\n",
        "model.add(MaxPool2D())\n",
        "model.add(Conv2D(filters=128, kernel_size=3, activation=\"relu\", padding='same'))\n",
        "model.add(MaxPool2D())\n",
        "model.add(Flatten())\n",
        "model.add(Dense(units=256, activation=\"relu\"))\n",
        "model.add(Dropout(0.3))\n",
        "model.add(Dense(units=num_classes, activation=\"softmax\"))\n",
        "\n"
      ],
      "execution_count": 19,
      "outputs": []
    },
    {
      "cell_type": "code",
      "metadata": {
        "id": "G1VbIqDIK4OU"
      },
      "source": [
        "model.compile(\n",
        "    loss=keras.losses.categorical_crossentropy,\n",
        "    optimizer=keras.optimizers.Adam(),\n",
        "    metrics=['accuracy'])\n",
        "\n"
      ],
      "execution_count": 20,
      "outputs": []
    },
    {
      "cell_type": "code",
      "metadata": {
        "colab": {
          "base_uri": "https://localhost:8080/"
        },
        "id": "bXQo5Bx0K4OV",
        "outputId": "39d7a373-2809-49a8-e780-a4b651a232f7"
      },
      "source": [
        "\n",
        "history = model.fit(\n",
        "    X_train, y_train,\n",
        "    batch_size=128,\n",
        "    epochs=9,\n",
        "    verbose=1,\n",
        ") \n",
        "\n",
        "\n",
        "\n",
        "\n",
        "\n"
      ],
      "execution_count": 21,
      "outputs": [
        {
          "output_type": "stream",
          "text": [
            "Epoch 1/9\n",
            "329/329 [==============================] - 57s 171ms/step - loss: 0.6523 - accuracy: 0.7880\n",
            "Epoch 2/9\n",
            "329/329 [==============================] - 56s 171ms/step - loss: 0.0692 - accuracy: 0.9782\n",
            "Epoch 3/9\n",
            "329/329 [==============================] - 56s 171ms/step - loss: 0.0424 - accuracy: 0.9864\n",
            "Epoch 4/9\n",
            "329/329 [==============================] - 56s 171ms/step - loss: 0.0316 - accuracy: 0.9900\n",
            "Epoch 5/9\n",
            "329/329 [==============================] - 56s 171ms/step - loss: 0.0269 - accuracy: 0.9921\n",
            "Epoch 6/9\n",
            "329/329 [==============================] - 56s 171ms/step - loss: 0.0219 - accuracy: 0.9931\n",
            "Epoch 7/9\n",
            "329/329 [==============================] - 56s 171ms/step - loss: 0.0170 - accuracy: 0.9942\n",
            "Epoch 8/9\n",
            "329/329 [==============================] - 57s 172ms/step - loss: 0.0140 - accuracy: 0.9954\n",
            "Epoch 9/9\n",
            "329/329 [==============================] - 56s 172ms/step - loss: 0.0113 - accuracy: 0.9966\n"
          ],
          "name": "stdout"
        }
      ]
    },
    {
      "cell_type": "code",
      "metadata": {
        "colab": {
          "base_uri": "https://localhost:8080/"
        },
        "id": "_z5_gkddK4OX",
        "outputId": "5b722e7f-2741-4875-8e83-3baad501b86f"
      },
      "source": [
        "import cv2\n",
        "img = cv2.imread('img.png')\n",
        "gray = cv2.cvtColor(img, cv2.COLOR_BGR2GRAY)\n",
        "\n",
        "gray = gray.astype('float32')\n",
        "image = gray.reshape(1, 28, 28, 1)\n",
        "image = 255-image\n",
        "image /= 255\n",
        "\n",
        "\n",
        "var = model.predict(image)\n",
        "print(var.round())"
      ],
      "execution_count": 23,
      "outputs": [
        {
          "output_type": "stream",
          "text": [
            "[[0. 0. 0. 0. 0. 0. 1. 0. 0. 0.]]\n"
          ],
          "name": "stdout"
        }
      ]
    },
    {
      "cell_type": "code",
      "metadata": {
        "id": "8NW_2k0UK4OY"
      },
      "source": [
        "\n"
      ],
      "execution_count": null,
      "outputs": []
    }
  ]
}