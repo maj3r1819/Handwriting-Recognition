{
 "cells": [
  {
   "cell_type": "code",
   "execution_count": 8,
   "metadata": {},
   "outputs": [],
   "source": [
    "import keras\n",
    "import numpy as np \n",
    "import pandas as pd \n",
    "from keras.datasets import mnist\n",
    "from keras.models import Sequential\n",
    "from keras.layers import Dense, Dropout, Flatten\n",
    "from keras.layers import Conv2D, MaxPool2D\n",
    "\n"
   ]
  },
  {
   "cell_type": "code",
   "execution_count": 9,
   "metadata": {},
   "outputs": [],
   "source": [
    "train_data= pd.read_csv(r\"D:\\trendzlink_internship\\Handwriting-Recognition\\data\\train.csv\")\n",
    "X_test= pd.read_csv(r\"D:\\trendzlink_internship\\Handwriting-Recognition\\data\\test.csv\")\n",
    "train_data.shape, X_test.shape\n",
    "\n",
    "y_train= train_data['label'].values\n",
    "X_train = train_data.drop(labels=['label'], axis=1)\n",
    "\n",
    "X_train.shape, X_test.shape\n",
    "\n",
    "X_train = X_train.astype('float32')\n",
    "X_test = X_test.astype('float32')\n",
    "\n"
   ]
  },
  {
   "cell_type": "code",
   "execution_count": 10,
   "metadata": {},
   "outputs": [],
   "source": [
    "num_classes= 10\n",
    "y_train = keras.utils.to_categorical(y_train, num_classes)\n",
    "\n",
    "X_train /= 255\n",
    "X_test /= 255\n",
    "\n",
    "X_train = X_train.values.reshape(X_train.shape[0], 28, 28, 1)\n",
    "X_test = X_test.values.reshape(X_test.shape[0], 28, 28, 1)\n",
    "input_shape = (28, 28, 1)\n",
    "\n"
   ]
  },
  {
   "cell_type": "code",
   "execution_count": 11,
   "metadata": {},
   "outputs": [],
   "source": [
    "\n",
    "model = Sequential()\n",
    "model.add(Conv2D(filters=32, kernel_size=3, activation=\"relu\", padding='same',input_shape=input_shape))\n",
    "model.add(MaxPool2D())\n",
    "model.add(Conv2D(filters=64, kernel_size=3, activation=\"relu\", padding='same'))\n",
    "model.add(MaxPool2D())\n",
    "model.add(Conv2D(filters=128, kernel_size=3, activation=\"relu\", padding='same'))\n",
    "model.add(MaxPool2D())\n",
    "model.add(Flatten())\n",
    "model.add(Dense(units=256, activation=\"relu\"))\n",
    "model.add(Dropout(0.3))\n",
    "model.add(Dense(units=num_classes, activation=\"softmax\"))\n",
    "\n"
   ]
  },
  {
   "cell_type": "code",
   "execution_count": 12,
   "metadata": {},
   "outputs": [],
   "source": [
    "model.compile(\n",
    "    loss=keras.losses.categorical_crossentropy,\n",
    "    optimizer=keras.optimizers.Adam(),\n",
    "    metrics=['accuracy'])\n",
    "\n"
   ]
  },
  {
   "cell_type": "code",
   "execution_count": null,
   "metadata": {},
   "outputs": [
    {
     "name": "stdout",
     "output_type": "stream",
     "text": [
      "Epoch 1/20\n",
      "329/329 [==============================] - 37s 112ms/step - loss: 0.0091 - accuracy: 0.9971\n",
      "Epoch 2/20\n",
      "329/329 [==============================] - 37s 111ms/step - loss: 0.0049 - accuracy: 0.9986\n",
      "Epoch 3/20\n",
      "329/329 [==============================] - 37s 111ms/step - loss: 0.0048 - accuracy: 0.9984\n",
      "Epoch 4/20\n",
      "329/329 [==============================] - 37s 112ms/step - loss: 0.0054 - accuracy: 0.9982\n",
      "Epoch 5/20\n",
      "329/329 [==============================] - 36s 111ms/step - loss: 0.0071 - accuracy: 0.9976\n",
      "Epoch 6/20\n",
      "329/329 [==============================] - 37s 114ms/step - loss: 0.0034 - accuracy: 0.9989\n",
      "Epoch 7/20\n",
      "329/329 [==============================] - 37s 112ms/step - loss: 0.0032 - accuracy: 0.9987\n",
      "Epoch 8/20\n",
      "329/329 [==============================] - 83s 252ms/step - loss: 0.0037 - accuracy: 0.9988\n",
      "Epoch 9/20\n",
      "329/329 [==============================] - 32s 96ms/step - loss: 0.0058 - accuracy: 0.9980\n",
      "Epoch 10/20\n",
      "329/329 [==============================] - 29s 89ms/step - loss: 0.0044 - accuracy: 0.9985\n",
      "Epoch 11/20\n",
      "329/329 [==============================] - 29s 88ms/step - loss: 0.0027 - accuracy: 0.9990\n",
      "Epoch 12/20\n",
      "329/329 [==============================] - 29s 88ms/step - loss: 0.0031 - accuracy: 0.9991\n",
      "Epoch 13/20\n",
      "329/329 [==============================] - 29s 90ms/step - loss: 0.0026 - accuracy: 0.9991\n",
      "Epoch 14/20\n",
      "329/329 [==============================] - 30s 91ms/step - loss: 0.0075 - accuracy: 0.9973\n",
      "Epoch 15/20\n",
      " 54/329 [===>..........................] - ETA: 24s - loss: 0.0019 - accuracy: 0.9993- ETA: 24s - loss: 0.0021 - accuracy"
     ]
    }
   ],
   "source": [
    "\n",
    "history = model.fit(\n",
    "    X_train, y_train,\n",
    "    batch_size=128,\n",
    "    epochs=20,\n",
    "    verbose=1,\n",
    ") \n",
    "\n",
    "\n",
    "\n",
    "\n",
    "\n"
   ]
  },
  {
   "cell_type": "code",
   "execution_count": null,
   "metadata": {},
   "outputs": [],
   "source": [
    "import cv2\n",
    "img = cv2.imread(r'D:\\trendzlink_internship\\Handwriting-Recognition\\data\\img.png')\n",
    "gray = cv2.cvtColor(img, cv2.COLOR_BGR2GRAY)\n",
    "\n",
    "gray = gray.astype('float32')\n",
    "image = gray.reshape(1, 28, 28, 1)\n",
    "image = 255-image\n",
    "image /= 255\n",
    "image.shape\n",
    "\n",
    "roun=model.predict(image)\n",
    "for arr1 in roun:\n",
    "    i = 0\n",
    "    for arr2 in arr1:\n",
    "        print(i, round(arr2, 3))\n",
    "        i+=1\n",
    "#print (round(roun, 2))\n",
    "#print(roun.round())\n",
    "\n",
    "\n"
   ]
  },
  {
   "cell_type": "code",
   "execution_count": null,
   "metadata": {},
   "outputs": [],
   "source": [
    "\n"
   ]
  }
 ],
 "metadata": {
  "kernelspec": {
   "display_name": "Python 3",
   "language": "python",
   "name": "python3"
  },
  "language_info": {
   "codemirror_mode": {
    "name": "ipython",
    "version": 3
   },
   "file_extension": ".py",
   "mimetype": "text/x-python",
   "name": "python",
   "nbconvert_exporter": "python",
   "pygments_lexer": "ipython3",
   "version": "3.8.5"
  }
 },
 "nbformat": 4,
 "nbformat_minor": 4
}
