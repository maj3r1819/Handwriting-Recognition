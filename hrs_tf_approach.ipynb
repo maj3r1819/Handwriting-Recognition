{
 "cells": [
  {
   "cell_type": "code",
   "execution_count": 8,
   "metadata": {},
   "outputs": [],
   "source": [
    "import keras\n",
    "import numpy as np \n",
    "import pandas as pd \n",
    "from keras.datasets import mnist\n",
    "from keras.models import Sequential\n",
    "from keras.layers import Dense, Dropout, Flatten\n",
    "from keras.layers import Conv2D, MaxPool2D\n",
    "\n"
   ]
  },
  {
   "cell_type": "code",
   "execution_count": 9,
   "metadata": {},
   "outputs": [],
   "source": [
    "train_data= pd.read_csv(r\"D:\\trendzlink_internship\\Handwriting-Recognition\\train.csv\")\n",
    "X_test= pd.read_csv(r\"D:\\trendzlink_internship\\Handwriting-Recognition\\test.csv\")\n",
    "train_data.shape, X_test.shape\n",
    "\n",
    "y_train= train_data['label'].values\n",
    "X_train = train_data.drop(labels=['label'], axis=1)\n",
    "\n",
    "X_train.shape, X_test.shape\n",
    "\n",
    "X_train = X_train.astype('float32')\n",
    "X_test = X_test.astype('float32')\n",
    "\n"
   ]
  },
  {
   "cell_type": "code",
   "execution_count": 10,
   "metadata": {},
   "outputs": [],
   "source": [
    "num_classes= 10\n",
    "y_train = keras.utils.to_categorical(y_train, num_classes)\n",
    "\n",
    "X_train /= 255\n",
    "X_test /= 255\n",
    "\n",
    "X_train = X_train.values.reshape(X_train.shape[0], 28, 28, 1)\n",
    "X_test = X_test.values.reshape(X_test.shape[0], 28, 28, 1)\n",
    "input_shape = (28, 28, 1)\n",
    "\n"
   ]
  },
  {
   "cell_type": "code",
   "execution_count": 11,
   "metadata": {},
   "outputs": [],
   "source": [
    "\n",
    "model = Sequential()\n",
    "model.add(Conv2D(filters=32, kernel_size=3, activation=\"relu\", padding='same',input_shape=input_shape))\n",
    "model.add(MaxPool2D())\n",
    "model.add(Conv2D(filters=64, kernel_size=3, activation=\"relu\", padding='same'))\n",
    "model.add(MaxPool2D())\n",
    "model.add(Conv2D(filters=128, kernel_size=3, activation=\"relu\", padding='same'))\n",
    "model.add(MaxPool2D())\n",
    "model.add(Flatten())\n",
    "model.add(Dense(units=256, activation=\"relu\"))\n",
    "model.add(Dropout(0.3))\n",
    "model.add(Dense(units=num_classes, activation=\"softmax\"))\n",
    "\n"
   ]
  },
  {
   "cell_type": "code",
   "execution_count": 12,
   "metadata": {},
   "outputs": [],
   "source": [
    "model.compile(\n",
    "    loss=keras.losses.categorical_crossentropy,\n",
    "    optimizer=keras.optimizers.Adam(),\n",
    "    metrics=['accuracy'])\n",
    "\n"
   ]
  },
  {
   "cell_type": "code",
   "execution_count": 13,
   "metadata": {},
   "outputs": [
    {
     "name": "stdout",
     "output_type": "stream",
     "text": [
      "Epoch 1/20\n",
      "329/329 [==============================] - 43s 113ms/step - loss: 0.6125 - accuracy: 0.8077\n",
      "Epoch 2/20\n",
      "329/329 [==============================] - 37s 112ms/step - loss: 0.0697 - accuracy: 0.9783\n",
      "Epoch 3/20\n",
      "329/329 [==============================] - 36s 110ms/step - loss: 0.0450 - accuracy: 0.9853\n",
      "Epoch 4/20\n",
      "329/329 [==============================] - 37s 111ms/step - loss: 0.0329 - accuracy: 0.9892\n",
      "Epoch 5/20\n",
      "329/329 [==============================] - 37s 113ms/step - loss: 0.0243 - accuracy: 0.9925\n",
      "Epoch 6/20\n",
      "329/329 [==============================] - 37s 113ms/step - loss: 0.0194 - accuracy: 0.9938\n",
      "Epoch 7/20\n",
      "329/329 [==============================] - 37s 114ms/step - loss: 0.0184 - accuracy: 0.9940\n",
      "Epoch 8/20\n",
      "329/329 [==============================] - 38s 114ms/step - loss: 0.0116 - accuracy: 0.9961\n",
      "Epoch 9/20\n",
      "329/329 [==============================] - 37s 113ms/step - loss: 0.0136 - accuracy: 0.9960\n",
      "Epoch 10/20\n",
      "329/329 [==============================] - 38s 115ms/step - loss: 0.0143 - accuracy: 0.9955\n",
      "Epoch 11/20\n",
      "329/329 [==============================] - 37s 112ms/step - loss: 0.0116 - accuracy: 0.9960\n",
      "Epoch 12/20\n",
      "329/329 [==============================] - 37s 112ms/step - loss: 0.0089 - accuracy: 0.9973\n",
      "Epoch 13/20\n",
      "329/329 [==============================] - 37s 111ms/step - loss: 0.0110 - accuracy: 0.9961\n",
      "Epoch 14/20\n",
      "329/329 [==============================] - 37s 112ms/step - loss: 0.0082 - accuracy: 0.9974\n",
      "Epoch 15/20\n",
      "329/329 [==============================] - 36s 111ms/step - loss: 0.0059 - accuracy: 0.9979\n",
      "Epoch 16/20\n",
      "329/329 [==============================] - 37s 113ms/step - loss: 0.0076 - accuracy: 0.9973\n",
      "Epoch 17/20\n",
      "329/329 [==============================] - 36s 110ms/step - loss: 0.0055 - accuracy: 0.9983\n",
      "Epoch 18/20\n",
      "329/329 [==============================] - 36s 110ms/step - loss: 0.0051 - accuracy: 0.9985\n",
      "Epoch 19/20\n",
      "329/329 [==============================] - 37s 111ms/step - loss: 0.0062 - accuracy: 0.9979\n",
      "Epoch 20/20\n",
      "329/329 [==============================] - 37s 113ms/step - loss: 0.0046 - accuracy: 0.9983\n"
     ]
    }
   ],
   "source": [
    "\n",
    "history = model.fit(\n",
    "    X_train, y_train,\n",
    "    batch_size=128,\n",
    "    epochs=20,\n",
    "    verbose=1,\n",
    ") \n",
    "\n",
    "\n",
    "\n",
    "\n",
    "\n"
   ]
  },
  {
   "cell_type": "code",
   "execution_count": 28,
   "metadata": {},
   "outputs": [
    {
     "name": "stdout",
     "output_type": "stream",
     "text": [
      "[[0. 0. 1. 0. 0. 0. 0. 0. 0. 0.]]\n"
     ]
    }
   ],
   "source": [
    "import cv2\n",
    "img = cv2.imread(r'D:\\trendzlink_internship\\Handwriting-Recognition\\img.png')\n",
    "gray = cv2.cvtColor(img, cv2.COLOR_BGR2GRAY)\n",
    "\n",
    "gray = gray.astype('float32')\n",
    "image = gray.reshape(1, 28, 28, 1)\n",
    "#image = 255-image\n",
    "image /= 255\n",
    "image.shape\n",
    "\n",
    "roun=model.predict(image)\n",
    "print(roun.round())\n",
    "\n",
    "\n"
   ]
  },
  {
   "cell_type": "code",
   "execution_count": null,
   "metadata": {},
   "outputs": [],
   "source": [
    "\n"
   ]
  }
 ],
 "metadata": {
  "kernelspec": {
   "display_name": "Python 3",
   "language": "python",
   "name": "python3"
  },
  "language_info": {
   "codemirror_mode": {
    "name": "ipython",
    "version": 3
   },
   "file_extension": ".py",
   "mimetype": "text/x-python",
   "name": "python",
   "nbconvert_exporter": "python",
   "pygments_lexer": "ipython3",
   "version": "3.8.5"
  }
 },
 "nbformat": 4,
 "nbformat_minor": 4
}
